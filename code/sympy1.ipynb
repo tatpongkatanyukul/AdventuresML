{
 "cells": [
  {
   "cell_type": "code",
   "execution_count": 1,
   "metadata": {
    "collapsed": false
   },
   "outputs": [
    {
     "data": {
      "text/plain": [
       "[-1, 1]"
      ]
     },
     "execution_count": 1,
     "metadata": {},
     "output_type": "execute_result"
    }
   ],
   "source": [
    "from sympy.solvers import solve\n",
    "from sympy import Symbol\n",
    "x = Symbol('x')\n",
    "solve(x**2 - 1, x)"
   ]
  },
  {
   "cell_type": "code",
   "execution_count": 2,
   "metadata": {
    "collapsed": true
   },
   "outputs": [],
   "source": [
    "x1, x2, beta2 = Symbol('x1'), Symbol('x2'), Symbol('beta2')"
   ]
  },
  {
   "cell_type": "code",
   "execution_count": 3,
   "metadata": {
    "collapsed": false
   },
   "outputs": [
    {
     "data": {
      "text/plain": [
       "[{beta2: -0.174662928770235, x1: 3.34796880491982, x2: 4.74177902374325},\n",
       " {beta2: 0.0, x1: 3.27000000000000, x2: 4.80000000000000},\n",
       " {beta2: -10.8626685356149 - 6.16099190747568*I,\n",
       "  x1: -1.67398440245991 + 3.06702972581571*I,\n",
       "  x2: 1.17911048812837 - 2.05366396915856*I},\n",
       " {beta2: -10.8626685356149 + 6.16099190747568*I,\n",
       "  x1: -1.67398440245991 - 3.06702972581571*I,\n",
       "  x2: 1.17911048812837 + 2.05366396915856*I}]"
      ]
     },
     "execution_count": 3,
     "metadata": {},
     "output_type": "execute_result"
    }
   ],
   "source": [
    "solve([3*(x1 - 3.27) + 0.4*beta2*x1, \n",
    "       3*(x2-4.8) - beta2, \n",
    "       beta2*(-x2 + 0.2*x1**2 + 2.5)])"
   ]
  },
  {
   "cell_type": "code",
   "execution_count": 3,
   "metadata": {
    "collapsed": false
   },
   "outputs": [
    {
     "data": {
      "text/plain": [
       "[{beta2: -0.174662928770235, x1: 3.34796880491982, x2: 4.74177902374325},\n",
       " {beta2: 0.0, x1: 3.27000000000000, x2: 4.80000000000000},\n",
       " {beta2: -10.8626685356149 - 6.16099190747568*I,\n",
       "  x1: -1.67398440245991 + 3.06702972581571*I,\n",
       "  x2: 1.17911048812837 - 2.05366396915856*I},\n",
       " {beta2: -10.8626685356149 + 6.16099190747568*I,\n",
       "  x1: -1.67398440245991 - 3.06702972581571*I,\n",
       "  x2: 1.17911048812837 + 2.05366396915856*I}]"
      ]
     },
     "execution_count": 3,
     "metadata": {},
     "output_type": "execute_result"
    }
   ],
   "source": [
    "x1 = Symbol('x1')\n",
    "x2 = Symbol('x2')\n",
    "beta1 = Symbol('beta1')\n",
    "beta2 = Symbol('beta2')\n",
    "\n",
    "\n",
    "solve([3*(x1 - 3.27) + 0.4*beta2*x1, 3*(x2-4.8) - beta2, beta2*(-x2 + 0.2*x1**2 + 2.5)])"
   ]
  },
  {
   "cell_type": "code",
   "execution_count": 4,
   "metadata": {
    "collapsed": false
   },
   "outputs": [
    {
     "data": {
      "text/plain": [
       "[{beta1: 0.0, x1: 3.27000000000000, x2: 4.80000000000000},\n",
       " {beta1: 1.07912060381198, x1: 2.52942064674132, x2: 4.44029313206267},\n",
       " {beta1: -3.08956030190599 - 2.38172909834414*I,\n",
       "  x1: 0.985289676629338 + 0.77121991088988*I,\n",
       "  x2: 5.82985343396866 + 0.793909699448046*I},\n",
       " {beta1: -3.08956030190599 + 2.38172909834414*I,\n",
       "  x1: 0.985289676629338 - 0.77121991088988*I,\n",
       "  x2: 5.82985343396866 - 0.793909699448046*I}]"
      ]
     },
     "execution_count": 4,
     "metadata": {},
     "output_type": "execute_result"
    }
   ],
   "source": [
    "solve([3*(x1 - 3.27) + 2*beta1*(x1 - 1.5), 3*(x2-4.8) + beta1, beta1*(x2 + (x1 - 1.5)**2 - 5.5)])"
   ]
  },
  {
   "cell_type": "code",
   "execution_count": null,
   "metadata": {
    "collapsed": true
   },
   "outputs": [],
   "source": []
  }
 ],
 "metadata": {
  "kernelspec": {
   "display_name": "py35a",
   "language": "python",
   "name": "py35a"
  },
  "language_info": {
   "codemirror_mode": {
    "name": "ipython",
    "version": 3
   },
   "file_extension": ".py",
   "mimetype": "text/x-python",
   "name": "python",
   "nbconvert_exporter": "python",
   "pygments_lexer": "ipython3",
   "version": "3.5.3"
  }
 },
 "nbformat": 4,
 "nbformat_minor": 2
}
